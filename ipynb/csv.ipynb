{
 "cells": [
  {
   "cell_type": "code",
   "execution_count": 25,
   "id": "6d1c7ff5",
   "metadata": {},
   "outputs": [
    {
     "name": "stdout",
     "output_type": "stream",
     "text": [
      "Process complete!\n",
      "Original number of rows: 1000\n",
      "Number of rows after filtering: 1000\n",
      "Final sorted, filtered, and rounded data saved to 'filtered_and_sorted_data.csv'\n"
     ]
    }
   ],
   "source": [
    "import pandas as pd\n",
    "\n",
    "# --- Configuration ---\n",
    "# Replace 'your_file.csv' with the actual name of your input file\n",
    "input_filename = 'shadow_width_comparison_simple.csv' \n",
    "# The new file where the sorted and filtered data will be saved\n",
    "output_filename = 'filtered_and_sorted_data.csv' \n",
    "\n",
    "# Column for filtering (e.g., the second column, which is index 1)\n",
    "filter_column_index = 1\n",
    "# The value to compare against for filtering\n",
    "threshold_value = 10\n",
    "\n",
    "# Column for sorting (e.g., the second column, which is index 1)\n",
    "sort_column_index = 1\n",
    "# ---------------------\n",
    "\n",
    "\n",
    "try:\n",
    "    # Read the CSV file. We assume the first row is the header.\n",
    "    df = pd.read_csv(input_filename)\n",
    "\n",
    "    # STEP 1: Filter the DataFrame.\n",
    "    # It keeps only the rows where the value in the specified column is less than the threshold.\n",
    "    # We get the column name using its index.\n",
    "    filter_column_name = df.columns[filter_column_index]\n",
    "    df[filter_column_name] = pd.to_numeric(df[filter_column_name], errors='coerce')\n",
    "    filtered_df = df[df[filter_column_name] < threshold_value].copy()\n",
    "\n",
    "    # STEP 2: Sort the filtered DataFrame.\n",
    "    # We get the column name using its index.\n",
    "    sort_column_name = df.columns[sort_column_index]\n",
    "    sorted_df = filtered_df.sort_values(by=sort_column_name, ascending=True)\n",
    "\n",
    "    # --- NEW STEP: Round all numeric columns to 4 decimal places ---\n",
    "    rounded_df = sorted_df.round(4)\n",
    "\n",
    "    # STEP 3: Save the final result to a new CSV file.\n",
    "    # 'index=False' prevents pandas from writing a new index column.\n",
    "    rounded_df.to_csv(output_filename, index=False)\n",
    "\n",
    "    print(f\"Process complete!\")\n",
    "    print(f\"Original number of rows: {len(df)}\")\n",
    "    print(f\"Number of rows after filtering: {len(filtered_df)}\")\n",
    "    print(f\"Final sorted, filtered, and rounded data saved to '{output_filename}'\")\n",
    "\n",
    "except FileNotFoundError:\n",
    "    print(f\"Error: The file '{input_filename}' was not found.\")\n",
    "except IndexError:\n",
    "    print(f\"Error: A specified column index is out of range. Please check your file and settings.\")\n",
    "except Exception as e:\n",
    "    print(f\"An error occurred: {e}\")"
   ]
  },
  {
   "cell_type": "code",
   "execution_count": 24,
   "id": "e6af3ac2",
   "metadata": {},
   "outputs": [
    {
     "name": "stdout",
     "output_type": "stream",
     "text": [
      "Process complete!\n",
      "Original number of rows: 1000\n",
      "Kept the 90% of rows with the smallest difference (error <= 0.3197).\n",
      "Number of rows after filtering: 900\n",
      "Final filtered data saved to 'filtered_data.csv'\n"
     ]
    }
   ],
   "source": [
    "import pandas as pd\n",
    "\n",
    "# --- Configuration ---\n",
    "# Replace this with the actual name of your input file\n",
    "input_filename = 'shadow_width_comparison_simple.csv' \n",
    "# The new file where the filtered data will be saved\n",
    "output_filename = 'filtered_data.csv' \n",
    "\n",
    "# The percentage of data to keep, based on the smallest errors.\n",
    "# For example, 0.90 means keep the 90% of rows with the smallest difference\n",
    "# and remove the top 10% with the largest difference.\n",
    "percentile_to_keep = 0.90\n",
    "# ---------------------\n",
    "\n",
    "try:\n",
    "    # Read the CSV file\n",
    "    df = pd.read_csv(input_filename)\n",
    "\n",
    "    # STEP 1: Calculate the absolute difference between original and restored\n",
    "    # Ensure columns are numeric, converting errors to NaN\n",
    "    df['original_width_mm'] = pd.to_numeric(df['original_width_mm'], errors='coerce')\n",
    "    df['restored_width_mm'] = pd.to_numeric(df['restored_width_mm'], errors='coerce')\n",
    "\n",
    "    # Drop rows where conversion to numeric failed\n",
    "    df.dropna(subset=['original_width_mm', 'restored_width_mm'], inplace=True)\n",
    "\n",
    "    # Calculate the absolute difference (the error)\n",
    "    df['difference'] = (df['original_width_mm'] - df['restored_width_mm']).abs()\n",
    "\n",
    "    # STEP 2: Find the error threshold based on the percentile\n",
    "    error_threshold = df['difference'].quantile(percentile_to_keep)\n",
    "\n",
    "    # STEP 3: Filter the DataFrame to keep only rows below the threshold\n",
    "    filtered_df = df[df['difference'] <= error_threshold].copy()\n",
    "\n",
    "    # STEP 4: Remove the temporary 'difference' column\n",
    "    filtered_df = filtered_df.drop(columns=['difference'])\n",
    "\n",
    "    # STEP 5: Save the final result to a new CSV file\n",
    "    filtered_df.to_csv(output_filename, index=False)\n",
    "\n",
    "    print(f\"Process complete!\")\n",
    "    print(f\"Original number of rows: {len(df)}\")\n",
    "    print(f\"Kept the {percentile_to_keep*100:.0f}% of rows with the smallest difference (error <= {error_threshold:.4f}).\")\n",
    "    print(f\"Number of rows after filtering: {len(filtered_df)}\")\n",
    "    print(f\"Final filtered data saved to '{output_filename}'\")\n",
    "\n",
    "except FileNotFoundError:\n",
    "    print(f\"Error: The file '{input_filename}' was not found.\")\n",
    "except Exception as e:\n",
    "    print(f\"An error occurred: {e}\")"
   ]
  },
  {
   "cell_type": "code",
   "execution_count": 23,
   "id": "b3977342",
   "metadata": {},
   "outputs": [
    {
     "name": "stdout",
     "output_type": "stream",
     "text": [
      "PDF saved as crack_data.pdf\n"
     ]
    }
   ],
   "source": [
    "import pandas as pd\n",
    "from reportlab.lib.pagesizes import letter, landscape\n",
    "from reportlab.platypus import SimpleDocTemplate, Table, TableStyle\n",
    "from reportlab.lib import colors\n",
    "\n",
    "# Load your CSV\n",
    "df = pd.read_csv(\"filtered_data.csv\")\n",
    "\n",
    "# Convert DataFrame to list of lists (for reportlab Table)\n",
    "data = [df.columns.tolist()] + df.values.tolist()\n",
    "\n",
    "# Create PDF file\n",
    "pdf_file = \"crack_data.pdf\"\n",
    "pdf = SimpleDocTemplate(pdf_file, pagesize=landscape(letter))\n",
    "\n",
    "# Create table\n",
    "table = Table(data)\n",
    "\n",
    "# Add style\n",
    "style = TableStyle([\n",
    "    ('BACKGROUND', (0,0), (-1,0), colors.grey),\n",
    "    ('TEXTCOLOR',(0,0),(-1,0),colors.whitesmoke),\n",
    "    ('ALIGN',(0,0),(-1,-1),'CENTER'),\n",
    "    ('FONTNAME', (0,0), (-1,0), 'Helvetica-Bold'),\n",
    "    ('BOTTOMPADDING', (0,0), (-1,0), 8),\n",
    "    ('GRID', (0,0), (-1,-1), 0.25, colors.black),\n",
    "])\n",
    "table.setStyle(style)\n",
    "\n",
    "# Build PDF\n",
    "pdf.build([table])\n",
    "\n",
    "print(f\"PDF saved as {pdf_file}\")\n"
   ]
  }
 ],
 "metadata": {
  "kernelspec": {
   "display_name": "Python 3",
   "language": "python",
   "name": "python3"
  },
  "language_info": {
   "codemirror_mode": {
    "name": "ipython",
    "version": 3
   },
   "file_extension": ".py",
   "mimetype": "text/x-python",
   "name": "python",
   "nbconvert_exporter": "python",
   "pygments_lexer": "ipython3",
   "version": "3.10.0"
  }
 },
 "nbformat": 4,
 "nbformat_minor": 5
}
