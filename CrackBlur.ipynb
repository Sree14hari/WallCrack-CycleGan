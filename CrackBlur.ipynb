{
 "cells": [
  {
   "cell_type": "markdown",
   "id": "fea79633",
   "metadata": {},
   "source": [
    "Downloading Dataset\n"
   ]
  },
  {
   "cell_type": "code",
   "execution_count": 1,
   "id": "1a4bba36",
   "metadata": {},
   "outputs": [
    {
     "name": "stderr",
     "output_type": "stream",
     "text": [
      "c:\\Users\\sreeh\\AppData\\Local\\Programs\\Python\\Python310\\lib\\site-packages\\tqdm\\auto.py:21: TqdmWarning: IProgress not found. Please update jupyter and ipywidgets. See https://ipywidgets.readthedocs.io/en/stable/user_install.html\n",
      "  from .autonotebook import tqdm as notebook_tqdm\n"
     ]
    },
    {
     "name": "stdout",
     "output_type": "stream",
     "text": [
      "Path to dataset files: C:\\Users\\sreeh\\.cache\\kagglehub\\datasets\\arunrk7\\surface-crack-detection\\versions\\1\n"
     ]
    }
   ],
   "source": [
    "import kagglehub\n",
    "\n",
    "# Download latest version\n",
    "path = kagglehub.dataset_download(\"arunrk7/surface-crack-detection\")\n",
    "\n",
    "print(\"Path to dataset files:\", path)"
   ]
  },
  {
   "cell_type": "markdown",
   "id": "0fe478ea",
   "metadata": {},
   "source": [
    "Saperating 1000 images"
   ]
  },
  {
   "cell_type": "code",
   "execution_count": 1,
   "id": "6451c74d",
   "metadata": {},
   "outputs": [
    {
     "name": "stdout",
     "output_type": "stream",
     "text": [
      "Searching for images in: Positive\n",
      "Found 20000 total images.\n",
      "Copying the first 1000 images to: Dataset_1000\n"
     ]
    },
    {
     "name": "stderr",
     "output_type": "stream",
     "text": [
      "Copying images: 100%|██████████| 1000/1000 [00:05<00:00, 188.93it/s]"
     ]
    },
    {
     "name": "stdout",
     "output_type": "stream",
     "text": [
      "\n",
      "✅ Done. All files copied successfully.\n"
     ]
    },
    {
     "name": "stderr",
     "output_type": "stream",
     "text": [
      "\n"
     ]
    }
   ],
   "source": [
    "import shutil\n",
    "from pathlib import Path\n",
    "from tqdm import tqdm\n",
    "\n",
    "# --- 1. CONFIGURE YOUR FOLDERS AND SETTINGS HERE ---\n",
    "\n",
    "# The folder where your 20,000 original images are located.\n",
    "source_folder = Path(\"Positive\") \n",
    "\n",
    "# The new folder where you want the first 1000 images to be copied.\n",
    "destination_folder = Path(\"Dataset_1000/\")\n",
    "\n",
    "# The number of images you want to select.\n",
    "num_to_select = 1000\n",
    "\n",
    "# You can add other extensions if needed.\n",
    "image_extensions = [\".jpg\", \".jpeg\", \".png\"]\n",
    "\n",
    "\n",
    "# --- 2. THE SCRIPT ---\n",
    "try:\n",
    "    # Create the destination folder if it doesn't exist\n",
    "    destination_folder.mkdir(parents=True, exist_ok=True)\n",
    "\n",
    "    print(f\"Searching for images in: {source_folder}\")\n",
    "    all_images = [f for f in source_folder.glob(\"*\") if f.suffix.lower() in image_extensions]\n",
    "    \n",
    "    # --- Sort the files alphabetically to get the \"first\" ones ---\n",
    "    all_images.sort()\n",
    "\n",
    "    if not all_images:\n",
    "        print(\"Error: No images found in the source folder.\")\n",
    "    else:\n",
    "        print(f\"Found {len(all_images)} total images.\")\n",
    "        \n",
    "        # Ensure we don't try to select more images than are available\n",
    "        if len(all_images) < num_to_select:\n",
    "            print(f\"Warning: Only {len(all_images)} images available. Selecting all of them.\")\n",
    "            num_to_select = len(all_images)\n",
    "\n",
    "        # Select the first N images from the sorted list\n",
    "        files_to_copy = all_images[:num_to_select]\n",
    "\n",
    "        print(f\"Copying the first {num_to_select} images to: {destination_folder}\")\n",
    "\n",
    "        # Copy each selected file to the destination with a progress bar\n",
    "        for image_path in tqdm(files_to_copy, desc=\"Copying images\"):\n",
    "            shutil.copy(image_path, destination_folder)\n",
    "\n",
    "        print(\"\\n✅ Done. All files copied successfully.\")\n",
    "\n",
    "except FileNotFoundError:\n",
    "    print(f\"Error: The source folder was not found at '{source_folder}'\")\n",
    "except Exception as e:\n",
    "    print(f\"An error occurred: {e}\")"
   ]
  },
  {
   "cell_type": "markdown",
   "id": "db3d8c5f",
   "metadata": {},
   "source": [
    "Adding Blur"
   ]
  },
  {
   "cell_type": "code",
   "execution_count": 2,
   "id": "4a96cb6a",
   "metadata": {},
   "outputs": [
    {
     "name": "stdout",
     "output_type": "stream",
     "text": [
      "Found 1000 images. Starting blur process...\n"
     ]
    },
    {
     "name": "stderr",
     "output_type": "stream",
     "text": [
      "Applying blur: 100%|██████████| 1000/1000 [00:04<00:00, 247.85it/s]"
     ]
    },
    {
     "name": "stdout",
     "output_type": "stream",
     "text": [
      "\n",
      "✅ Done. All blurred images saved to 'blur'.\n"
     ]
    },
    {
     "name": "stderr",
     "output_type": "stream",
     "text": [
      "\n"
     ]
    }
   ],
   "source": [
    "from pathlib import Path\n",
    "from PIL import Image, ImageFilter\n",
    "from tqdm import tqdm\n",
    "\n",
    "# --- 1. CONFIGURE YOUR SETTINGS HERE ---\n",
    "\n",
    "# Folder with your 500 clean, original images.\n",
    "source_folder = Path(\"Dataset_1000/\")\n",
    "\n",
    "# Folder where the new blurred images will be saved (this will be part of trainA).\n",
    "destination_folder = Path(\"blur/\")\n",
    "\n",
    "# Adjust the blur intensity. Higher numbers mean more blur. Try values between 2 and 8.\n",
    "blur_radius = 5\n",
    "\n",
    "# --- 2. THE SCRIPT ---\n",
    "\n",
    "try:\n",
    "    # Create the destination folder if it doesn't exist\n",
    "    destination_folder.mkdir(parents=True, exist_ok=True)\n",
    "\n",
    "    # Get a list of all image files in the source folder\n",
    "    image_files = list(source_folder.glob(\"*.jpg\")) + \\\n",
    "                  list(source_folder.glob(\"*.jpeg\")) + \\\n",
    "                  list(source_folder.glob(\"*.png\"))\n",
    "\n",
    "    if not image_files:\n",
    "        print(f\"Error: No images found in '{source_folder}'\")\n",
    "    else:\n",
    "        print(f\"Found {len(image_files)} images. Starting blur process...\")\n",
    "\n",
    "        # Loop through all images and show a progress bar\n",
    "        for image_path in tqdm(image_files, desc=\"Applying blur\"):\n",
    "            try:\n",
    "                # Open the image\n",
    "                with Image.open(image_path) as img:\n",
    "                    # Apply a Gaussian blur filter\n",
    "                    blurred_img = img.filter(ImageFilter.GaussianBlur(radius=blur_radius))\n",
    "                    \n",
    "                    # Construct the new filename/path for the blurred image\n",
    "                   \n",
    "                    save_path = destination_folder / f\"blur_{image_path.name}\"\n",
    "                    # Save the blurred image\n",
    "                    blurred_img.save(save_path)\n",
    "            except Exception as e:\n",
    "                print(f\"\\nCould not process {image_path.name}: {e}\")\n",
    "\n",
    "        print(f\"\\n✅ Done. All blurred images saved to '{destination_folder}'.\")\n",
    "\n",
    "except FileNotFoundError:\n",
    "    print(f\"Error: Source folder not found at '{source_folder}'\")"
   ]
  },
  {
   "cell_type": "markdown",
   "id": "ec9fc101",
   "metadata": {},
   "source": [
    "Remove Blur Using Cycle Gan Model"
   ]
  },
  {
   "cell_type": "code",
   "execution_count": 2,
   "id": "9e6f83d8",
   "metadata": {},
   "outputs": [
    {
     "name": "stdout",
     "output_type": "stream",
     "text": [
      "Loading model...\n",
      "Model loaded successfully.\n",
      "Found 1000 images to process.\n"
     ]
    },
    {
     "name": "stderr",
     "output_type": "stream",
     "text": [
      "Unblurring images: 100%|██████████| 1000/1000 [00:29<00:00, 34.07it/s]"
     ]
    },
    {
     "name": "stdout",
     "output_type": "stream",
     "text": [
      "\n",
      "✅ Processing complete. All restored images saved to 'unblurred_results'.\n"
     ]
    },
    {
     "name": "stderr",
     "output_type": "stream",
     "text": [
      "\n"
     ]
    }
   ],
   "source": [
    "import torch\n",
    "import torchvision.transforms as transforms\n",
    "from PIL import Image\n",
    "import torch.nn as nn\n",
    "from pathlib import Path\n",
    "from tqdm import tqdm\n",
    "\n",
    "# ==============================================================================\n",
    "# ===== 1. DEFINE THE MODEL ARCHITECTURE (Same as before) ======================\n",
    "# ==============================================================================\n",
    "\n",
    "class ResnetGenerator(nn.Module):\n",
    "    \"\"\"Resnet-based generator that consists of Resnet blocks between a few downsampling/upsampling operations.\"\"\"\n",
    "    def __init__(self, input_nc=3, output_nc=3, ngf=64, norm_layer=nn.InstanceNorm2d, use_dropout=False, n_blocks=9, padding_type='reflect'):\n",
    "        super(ResnetGenerator, self).__init__()\n",
    "        use_bias = norm_layer == nn.InstanceNorm2d\n",
    "        model = [nn.ReflectionPad2d(3),\n",
    "                 nn.Conv2d(input_nc, ngf, kernel_size=7, padding=0, bias=use_bias),\n",
    "                 norm_layer(ngf),\n",
    "                 nn.ReLU(True)]\n",
    "        n_downsampling = 2\n",
    "        for i in range(n_downsampling):\n",
    "            mult = 2 ** i\n",
    "            model += [nn.Conv2d(ngf * mult, ngf * mult * 2, kernel_size=3, stride=2, padding=1, bias=use_bias),\n",
    "                      norm_layer(ngf * mult * 2),\n",
    "                      nn.ReLU(True)]\n",
    "        mult = 2 ** n_downsampling\n",
    "        for i in range(n_blocks):\n",
    "            model += [ResnetBlock(ngf * mult, padding_type=padding_type, norm_layer=norm_layer, use_dropout=use_dropout, use_bias=use_bias)]\n",
    "        for i in range(n_downsampling):\n",
    "            mult = 2 ** (n_downsampling - i)\n",
    "            model += [nn.ConvTranspose2d(ngf * mult, int(ngf * mult / 2), kernel_size=3, stride=2, padding=1, output_padding=1, bias=use_bias),\n",
    "                      norm_layer(int(ngf * mult / 2)),\n",
    "                      nn.ReLU(True)]\n",
    "        model += [nn.ReflectionPad2d(3)]\n",
    "        model += [nn.Conv2d(ngf, output_nc, kernel_size=7, padding=0)]\n",
    "        model += [nn.Tanh()]\n",
    "        self.model = nn.Sequential(*model)\n",
    "\n",
    "    def forward(self, input):\n",
    "        return self.model(input)\n",
    "\n",
    "class ResnetBlock(nn.Module):\n",
    "    \"\"\"Define a Resnet block\"\"\"\n",
    "    def __init__(self, dim, padding_type, norm_layer, use_dropout, use_bias):\n",
    "        super(ResnetBlock, self).__init__()\n",
    "        self.conv_block = self.build_conv_block(dim, padding_type, norm_layer, use_dropout, use_bias)\n",
    "\n",
    "    def build_conv_block(self, dim, padding_type, norm_layer, use_dropout, use_bias):\n",
    "        conv_block = []\n",
    "        p = 0\n",
    "        if padding_type == 'reflect':\n",
    "            conv_block += [nn.ReflectionPad2d(1)]\n",
    "        elif padding_type == 'replicate':\n",
    "            conv_block += [nn.ReplicationPad2d(1)]\n",
    "        elif padding_type == 'zero':\n",
    "            p = 1\n",
    "        else:\n",
    "            raise NotImplementedError('padding [%s] is not implemented' % padding_type)\n",
    "        conv_block += [nn.Conv2d(dim, dim, kernel_size=3, padding=p, bias=use_bias), norm_layer(dim), nn.ReLU(True)]\n",
    "        if use_dropout:\n",
    "            conv_block += [nn.Dropout(0.5)]\n",
    "        p = 0\n",
    "        if padding_type == 'reflect':\n",
    "            conv_block += [nn.ReflectionPad2d(1)]\n",
    "        elif padding_type == 'replicate':\n",
    "            conv_block += [nn.ReplicationPad2d(1)]\n",
    "        elif padding_type == 'zero':\n",
    "            p = 1\n",
    "        else:\n",
    "            raise NotImplementedError('padding [%s] is not implemented' % padding_type)\n",
    "        conv_block += [nn.Conv2d(dim, dim, kernel_size=3, padding=p, bias=use_bias), norm_layer(dim)]\n",
    "        return nn.Sequential(*conv_block)\n",
    "\n",
    "    def forward(self, x):\n",
    "        out = x + self.conv_block(x)  # add skip connections\n",
    "        return out\n",
    "\n",
    "# ===============================================================\n",
    "# ================== 2. LOAD AND USE THE MODEL ==================\n",
    "# ===============================================================\n",
    "\n",
    "# --- Define Paths and Parameters ---\n",
    "model_path = \"50_net_G.pth\"\n",
    "input_folder = Path(\"blur/\")  # <--- SET YOUR INPUT FOLDER\n",
    "output_folder = Path(\"unblurred_results/\") # <--- SET YOUR OUTPUT FOLDER\n",
    "DEVICE = \"cuda\" if torch.cuda.is_available() else \"cpu\"\n",
    "\n",
    "# --- Create Model and Load Weights ---\n",
    "print(\"Loading model...\")\n",
    "model = ResnetGenerator(n_blocks=9, norm_layer=nn.InstanceNorm2d).to(DEVICE)\n",
    "model.load_state_dict(torch.load(model_path, map_location=DEVICE))\n",
    "model.eval() # Set model to evaluation mode\n",
    "print(\"Model loaded successfully.\")\n",
    "\n",
    "# --- Define Image Pre-processing ---\n",
    "transform = transforms.Compose([\n",
    "    transforms.Resize((256, 256)),\n",
    "    transforms.ToTensor(),\n",
    "    transforms.Normalize(mean=(0.5, 0.5, 0.5), std=(0.5, 0.5, 0.5)) # Normalize to [-1, 1]\n",
    "])\n",
    "\n",
    "# --- Process the Entire Folder ---\n",
    "output_folder.mkdir(parents=True, exist_ok=True)\n",
    "image_files = list(input_folder.glob(\"*.jpg\")) + list(input_folder.glob(\"*.png\"))\n",
    "\n",
    "print(f\"Found {len(image_files)} images to process.\")\n",
    "\n",
    "for image_path in tqdm(image_files, desc=\"Unblurring images\"):\n",
    "    try:\n",
    "        # Load and transform the input image\n",
    "        input_image = Image.open(image_path).convert(\"RGB\")\n",
    "        input_tensor = transform(input_image).unsqueeze(0).to(DEVICE)\n",
    "\n",
    "        # Run inference\n",
    "        with torch.no_grad():\n",
    "            output_tensor = model(input_tensor)\n",
    "\n",
    "        # Post-process and Save the Output Image\n",
    "        output_tensor = (output_tensor * 0.5) + 0.5\n",
    "        output_image = transforms.ToPILImage()(output_tensor.squeeze(0).cpu())\n",
    "        \n",
    "        # Save with the same name in the output folder\n",
    "        output_image.save(output_folder / image_path.name)\n",
    "    except Exception as e:\n",
    "        print(f\"Error processing {image_path.name}: {e}\")\n",
    "\n",
    "print(f\"\\n✅ Processing complete. All restored images saved to '{output_folder}'.\")"
   ]
  },
  {
   "cell_type": "code",
   "execution_count": 5,
   "id": "464d370a",
   "metadata": {},
   "outputs": [
    {
     "name": "stderr",
     "output_type": "stream",
     "text": [
      "Analyzing Dataset_1000: 100%|██████████| 1000/1000 [00:03<00:00, 321.04it/s]\n",
      "Analyzing blur: 100%|██████████| 1000/1000 [00:02<00:00, 338.57it/s]\n",
      "Analyzing unblurred_results: 100%|██████████| 1000/1000 [00:03<00:00, 312.53it/s]"
     ]
    },
    {
     "name": "stdout",
     "output_type": "stream",
     "text": [
      "\n",
      "--- Final Blur Comparison Report ---\n",
      "  filename  clean_width_mm   clean_class  blurred_width_mm blurred_class  \\\n",
      "0    00001        2.332381   Heavy Crack          3.224903   Heavy Crack   \n",
      "1    00002        1.600000  Medium Crack          1.897367  Medium Crack   \n",
      "2    00003        2.000000  Medium Crack          2.778489   Heavy Crack   \n",
      "3    00004        2.163331   Heavy Crack          2.236068   Heavy Crack   \n",
      "4    00005        1.600000  Medium Crack          1.788854  Medium Crack   \n",
      "\n",
      "   restored_width_mm restored_class  \n",
      "0           2.236068    Heavy Crack  \n",
      "1           1.800000   Medium Crack  \n",
      "2           2.009975    Heavy Crack  \n",
      "3           2.400000    Heavy Crack  \n",
      "4           1.843909   Medium Crack  \n",
      "\n",
      "✅ Final blur comparison report saved to 'blur_crack_width_comparison.csv'\n"
     ]
    },
    {
     "name": "stderr",
     "output_type": "stream",
     "text": [
      "\n"
     ]
    }
   ],
   "source": [
    "import numpy as np\n",
    "import matplotlib.pyplot as plt\n",
    "import cv2\n",
    "import os\n",
    "import pandas as pd\n",
    "from pathlib import Path\n",
    "from skimage.morphology import skeletonize\n",
    "from scipy.ndimage import distance_transform_edt\n",
    "from tqdm import tqdm\n",
    "\n",
    "# ===============================================================\n",
    "# ===== 1. YOUR PROFESSOR'S FUNCTIONS ===========================\n",
    "# ===============================================================\n",
    "\n",
    "def classify_crack_width(width_mm):\n",
    "    if width_mm <= 1.0: return \"Light Crack\"\n",
    "    elif width_mm <= 2.0: return \"Medium Crack\"\n",
    "    else: return \"Heavy Crack\"\n",
    "\n",
    "def crack_width_measure(binary_image, pixel_size_mm=0.1, display_results=False):\n",
    "    if binary_image.dtype != np.uint8: binary_image = binary_image.astype(np.uint8)\n",
    "    if np.sum(binary_image) == 0: return np.array([0]), 0\n",
    "    skeleton = skeletonize(binary_image > 0)\n",
    "    distance = distance_transform_edt(binary_image)\n",
    "    crack_widths_pixels = distance[skeleton]\n",
    "    if len(crack_widths_pixels) == 0: return np.array([0]), 0\n",
    "    crack_widths_pixels = crack_widths_pixels * 2\n",
    "    crack_widths_mm = crack_widths_pixels * pixel_size_mm\n",
    "    return crack_widths_mm, np.max(crack_widths_mm)\n",
    "\n",
    "def analyse_crack_image(image_path, pixel_size_mm=0.1, display_results=False):\n",
    "    img = cv2.imread(str(image_path), cv2.IMREAD_GRAYSCALE)\n",
    "    if img is None: return np.array([0]), 0, \"Error\"\n",
    "    _, binary_image = cv2.threshold(img, 127, 255, cv2.THRESH_BINARY_INV)\n",
    "    crack_widths_mm, max_crack_width_mm = crack_width_measure(binary_image, pixel_size_mm, display_results)\n",
    "    classification = classify_crack_width(max_crack_width_mm)\n",
    "    return crack_widths_mm, max_crack_width_mm, classification\n",
    "\n",
    "def analyse_folder(folder_path, pixel_size_mm=0.1, display_results=False):\n",
    "    results = {}\n",
    "    image_files = [f for f in os.listdir(folder_path) if f.lower().endswith(('.png', '.jpg', '.jpeg'))]\n",
    "    for filename in tqdm(image_files, desc=f\"Analyzing {Path(folder_path).name}\"):\n",
    "        image_path = os.path.join(folder_path, filename)\n",
    "        _, max_width, classification = analyse_crack_image(image_path, pixel_size_mm, display_results)\n",
    "        results[filename] = (max_width, classification)\n",
    "    return results\n",
    "\n",
    "# ===============================================================\n",
    "# =========== 2. DEFINE YOUR FOLDERS AND RUN ANALYSIS ===========\n",
    "# ===============================================================\n",
    "\n",
    "# --- Define Your Folders for the Blur analysis ---\n",
    "folder_clean = Path(\"Dataset_1000/\")\n",
    "folder_augmented = Path(\"blur/\")\n",
    "folder_restored = Path(\"unblurred_results/\")\n",
    "\n",
    "# --- Run Analysis on Each Folder ---\n",
    "results_clean = analyse_folder(str(folder_clean))\n",
    "results_augmented = analyse_folder(str(folder_augmented))\n",
    "results_restored = analyse_folder(str(folder_restored))\n",
    "\n",
    "# ===============================================================\n",
    "# ========= 3. COMBINE AND COMPARE RESULTS (BLUR ONLY) ==========\n",
    "# ===============================================================\n",
    "comparison_data = []\n",
    "\n",
    "# Loop through the clean images as the ground truth\n",
    "for clean_filename, (clean_width, clean_class) in results_clean.items():\n",
    "    \n",
    "    # --- THIS IS THE CORRECTED LOGIC ---\n",
    "    # Construct the expected filename for the augmented and restored images\n",
    "    aug_filename = f\"blur_{clean_filename}\"\n",
    "    \n",
    "    # Get data using the correct prefixed key\n",
    "    aug_width, aug_class = results_augmented.get(aug_filename, (None, \"N/A\"))\n",
    "    # Restored file also has the prefix and could be .png or .jpg\n",
    "    res_filename_jpg = aug_filename\n",
    "    res_filename_png = Path(aug_filename).with_suffix('.png').name\n",
    "    res_width, res_class = results_restored.get(res_filename_jpg, results_restored.get(res_filename_png, (None, \"N/A\")))\n",
    "    \n",
    "    comparison_data.append({\n",
    "        'filename': Path(clean_filename).stem,\n",
    "        'clean_width_mm': clean_width,\n",
    "        'clean_class': clean_class,\n",
    "        'blurred_width_mm': aug_width,\n",
    "        'blurred_class': aug_class,\n",
    "        'restored_width_mm': res_width,\n",
    "        'restored_class': res_class\n",
    "    })\n",
    "\n",
    "# Create a final DataFrame\n",
    "df_comparison = pd.DataFrame(comparison_data)\n",
    "\n",
    "print(\"\\n--- Final Blur Comparison Report ---\")\n",
    "print(df_comparison.head())\n",
    "\n",
    "# Save the final report to a CSV\n",
    "df_comparison.to_csv(\"blur_crack_width_comparison.csv\", index=False)\n",
    "print(\"\\n✅ Final blur comparison report saved to 'blur_crack_width_comparison.csv'\")"
   ]
  },
  {
   "cell_type": "code",
   "execution_count": 6,
   "id": "5661d9c6",
   "metadata": {},
   "outputs": [
    {
     "name": "stdout",
     "output_type": "stream",
     "text": [
      "--- Average Crack Widths (in mm) ---\n",
      "clean_width_mm       3.375491\n",
      "blurred_width_mm     5.423630\n",
      "restored_width_mm    3.059506\n",
      "dtype: float64\n"
     ]
    }
   ],
   "source": [
    "import pandas as pd\n",
    "\n",
    "# Load your results\n",
    "df = pd.read_csv(\"blur_crack_width_comparison.csv\")\n",
    "\n",
    "# Calculate and print the average of the key columns\n",
    "print(\"--- Average Crack Widths (in mm) ---\")\n",
    "print(df[['clean_width_mm', 'blurred_width_mm', 'restored_width_mm']].mean())"
   ]
  },
  {
   "cell_type": "code",
   "execution_count": 8,
   "id": "645faa57",
   "metadata": {},
   "outputs": [
    {
     "data": {
      "image/png": "[encoded data removed]",
      "text/plain": [
       "<Figure size 800x800 with 1 Axes>"
      ]
     },
     "metadata": {},
     "output_type": "display_data"
    }
   ],
   "source": [
    "import pandas as pd\n",
    "import matplotlib.pyplot as plt\n",
    "\n",
    "# --- 1. Load the data from your SHADOW analysis ---\n",
    "df = pd.read_csv(\"blur_crack_width_comparison.csv\")\n",
    "\n",
    "# --- 2. The rest of your plotting code is the same ---\n",
    "# Drop rows where the measurement might have failed, for a clean plot\n",
    "df_cleaned = df.dropna(subset=['clean_width_mm', 'restored_width_mm'])\n",
    "df_cleaned = df_cleaned[df_cleaned['restored_width_mm'] > 0]\n",
    "\n",
    "# Create the plot\n",
    "plt.figure(figsize=(8, 8))\n",
    "plt.scatter(df_cleaned['clean_width_mm'], df_cleaned['restored_width_mm'], alpha=0.6)\n",
    "# Add a red 1:1 line for perfect correlation\n",
    "max_val = max(df_cleaned['clean_width_mm'].max(), df_cleaned['restored_width_mm'].max())\n",
    "plt.plot([0, max_val], [0, max_val], 'r--', label='Ideal 1:1 Line')\n",
    "\n",
    "plt.xlabel(\"Original Crack Width (mm)\")\n",
    "plt.ylabel(\"Restored Crack Width (mm)\")\n",
    "plt.title(\"Comparison of Original vs. Restored Crack Widths (blur)\")\n",
    "plt.grid(True)\n",
    "plt.legend()\n",
    "plt.axis('equal')\n",
    "plt.show()"
   ]
  }
 ],
 "metadata": {
  "kernelspec": {
   "display_name": "Python 3",
   "language": "python",
   "name": "python3"
  },
  "language_info": {
   "codemirror_mode": {
    "name": "ipython",
    "version": 3
   },
   "file_extension": ".py",
   "mimetype": "text/x-python",
   "name": "python",
   "nbconvert_exporter": "python",
   "pygments_lexer": "ipython3",
   "version": "3.10.0"
  }
 },
 "nbformat": 4,
 "nbformat_minor": 5
}
